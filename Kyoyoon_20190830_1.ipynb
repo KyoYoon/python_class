{
  "nbformat": 4,
  "nbformat_minor": 0,
  "metadata": {
    "colab": {
      "name": "Kyoyoon_20190830_1.ipynb",
      "version": "0.3.2",
      "provenance": [],
      "collapsed_sections": [],
      "include_colab_link": true
    },
    "kernelspec": {
      "name": "python3",
      "display_name": "Python 3"
    }
  },
  "cells": [
    {
      "cell_type": "markdown",
      "metadata": {
        "id": "view-in-github",
        "colab_type": "text"
      },
      "source": [
        "<a href=\"https://colab.research.google.com/github/KyoYoon/python_class/blob/master/Kyoyoon_20190830_1.ipynb\" target=\"_parent\"><img src=\"https://colab.research.google.com/assets/colab-badge.svg\" alt=\"Open In Colab\"/></a>"
      ]
    },
    {
      "cell_type": "markdown",
      "metadata": {
        "id": "jjf8qRQ7PBqI",
        "colab_type": "text"
      },
      "source": [
        "# 리스트 "
      ]
    },
    {
      "cell_type": "markdown",
      "metadata": {
        "id": "vLjY2t0bPi-6",
        "colab_type": "text"
      },
      "source": [
        "## 리스트란?"
      ]
    },
    {
      "cell_type": "markdown",
      "metadata": {
        "id": "8jhR2xdXQAa9",
        "colab_type": "text"
      },
      "source": [
        "리스트는 여러 값을 담을 수 있는 변수입니다."
      ]
    },
    {
      "cell_type": "markdown",
      "metadata": {
        "id": "Q1mSfU77QLy3",
        "colab_type": "text"
      },
      "source": [
        "### 1. 리스트 만들기 "
      ]
    },
    {
      "cell_type": "markdown",
      "metadata": {
        "id": "0baK9H8YQSoi",
        "colab_type": "text"
      },
      "source": [
        "방법은 2가지 "
      ]
    },
    {
      "cell_type": "markdown",
      "metadata": {
        "id": "zvjc-3_KQWyZ",
        "colab_type": "text"
      },
      "source": [
        "#### 방법1"
      ]
    },
    {
      "cell_type": "code",
      "metadata": {
        "id": "47-9kkzEQb6W",
        "colab_type": "code",
        "colab": {}
      },
      "source": [
        "# list1 이라는 빈 리스트를 만들어보겠습니다. \n",
        "list1 = []"
      ],
      "execution_count": 0,
      "outputs": []
    },
    {
      "cell_type": "code",
      "metadata": {
        "id": "qxqNQYQoQwyh",
        "colab_type": "code",
        "colab": {
          "base_uri": "https://localhost:8080/",
          "height": 34
        },
        "outputId": "eadb7ea7-bb74-4e96-883c-fcf709db7d54"
      },
      "source": [
        "print(list1)"
      ],
      "execution_count": 2,
      "outputs": [
        {
          "output_type": "stream",
          "text": [
            "[]\n"
          ],
          "name": "stdout"
        }
      ]
    },
    {
      "cell_type": "code",
      "metadata": {
        "id": "VEXaj63YQzmY",
        "colab_type": "code",
        "colab": {}
      },
      "source": [
        "# list2를 만들어보자. 1. '철수', True를 넣어서 \n",
        "list2 = [1, '철수', True]"
      ],
      "execution_count": 0,
      "outputs": []
    },
    {
      "cell_type": "code",
      "metadata": {
        "id": "Mv5yVtIZRGBk",
        "colab_type": "code",
        "colab": {
          "base_uri": "https://localhost:8080/",
          "height": 34
        },
        "outputId": "2300a65f-bdf3-476b-ed55-e577eb9ff4ab"
      },
      "source": [
        "print(list2)"
      ],
      "execution_count": 6,
      "outputs": [
        {
          "output_type": "stream",
          "text": [
            "[1, '철수', True]\n"
          ],
          "name": "stdout"
        }
      ]
    },
    {
      "cell_type": "markdown",
      "metadata": {
        "id": "i9w6gv4TRH5F",
        "colab_type": "text"
      },
      "source": [
        "#### 방법2 "
      ]
    },
    {
      "cell_type": "code",
      "metadata": {
        "id": "f7VueVGHR3Of",
        "colab_type": "code",
        "colab": {}
      },
      "source": [
        "list3 = list()"
      ],
      "execution_count": 0,
      "outputs": []
    },
    {
      "cell_type": "code",
      "metadata": {
        "id": "RQkV1ymJSBfm",
        "colab_type": "code",
        "colab": {
          "base_uri": "https://localhost:8080/",
          "height": 34
        },
        "outputId": "e999ab35-7f8f-40db-8af6-489b26811b9a"
      },
      "source": [
        "print(list3)"
      ],
      "execution_count": 8,
      "outputs": [
        {
          "output_type": "stream",
          "text": [
            "[]\n"
          ],
          "name": "stdout"
        }
      ]
    },
    {
      "cell_type": "code",
      "metadata": {
        "id": "iPNRR7t4SCf5",
        "colab_type": "code",
        "colab": {}
      },
      "source": [
        "list4 = list([1, '철수', True])"
      ],
      "execution_count": 0,
      "outputs": []
    },
    {
      "cell_type": "code",
      "metadata": {
        "id": "9-52OxsfUbVT",
        "colab_type": "code",
        "colab": {
          "base_uri": "https://localhost:8080/",
          "height": 34
        },
        "outputId": "1454a2a3-d596-4919-cda1-b107405e7035"
      },
      "source": [
        "print(list4)"
      ],
      "execution_count": 11,
      "outputs": [
        {
          "output_type": "stream",
          "text": [
            "[1, '철수', True]\n"
          ],
          "name": "stdout"
        }
      ]
    },
    {
      "cell_type": "code",
      "metadata": {
        "id": "cspIYZs7UwiT",
        "colab_type": "code",
        "colab": {}
      },
      "source": [
        ""
      ],
      "execution_count": 0,
      "outputs": []
    }
  ]
}